{
  "nbformat": 4,
  "nbformat_minor": 0,
  "metadata": {
    "colab": {
      "name": "Assignment-2.ipynb",
      "provenance": [],
      "collapsed_sections": []
    },
    "kernelspec": {
      "name": "python3",
      "display_name": "Python 3"
    }
  },
  "cells": [
    {
      "cell_type": "code",
      "metadata": {
        "id": "5TmS4O3AobMR",
        "outputId": "5eb02065-3b16-493d-c2af-1f6da106151a",
        "colab": {
          "base_uri": "https://localhost:8080/"
        }
      },
      "source": [
        "# Assignment no : 2(Que 1)\n",
        "\n",
        "# Questions 1:\n",
        "# Create an empty list. Accept 10 numbers from the user and append to it the list if it is an even number.\n",
        "\n",
        "my_list = []\n",
        "# print(my_list)\n",
        "for i in range(10):\n",
        "    i = int(input())\n",
        "    if (i % 2) == 0:\n",
        "        my_list.append(i)\n",
        "    else:\n",
        "        continue\n",
        "\n",
        "print(my_list)\n"
      ],
      "execution_count": 4,
      "outputs": [
        {
          "output_type": "stream",
          "text": [
            "10\n",
            "20\n",
            "30\n",
            "40\n",
            "50\n",
            "60\n",
            "70\n",
            "80\n",
            "90\n",
            "100\n",
            "[10, 20, 30, 40, 50, 60, 70, 80, 90, 100]\n"
          ],
          "name": "stdout"
        }
      ]
    },
    {
      "cell_type": "code",
      "metadata": {
        "id": "uC0NCyUHnzlb",
        "outputId": "33cac5d1-7a8c-4f46-fe0d-9543d2354f63",
        "colab": {
          "base_uri": "https://localhost:8080/"
        }
      },
      "source": [
        "# Questions 2:\n",
        "# Create a notebook on LIST COMPREHENSION. This exercise is to put you in a Self learning mode\n",
        "\n",
        "my_list = []  # empty list creates\n",
        "print(\"print empty list :\", my_list)\n",
        "\n",
        "my_list1 = [10, 20, 15, 68, 9, 56, 85, 95, 64, 58, 56, 32, 32]  # int List create\n",
        "\n",
        "print(\"List of int :\", my_list1)\n",
        "\n",
        "mixed_list = [10, 'teju', 20.0, \"Gadhinglaj\"]\n",
        "print(\"mixed list is :\", mixed_list)\n",
        "\n",
        "print('X' * 50)  # indication purpose\n",
        "\n",
        "from collections import Counter\n",
        "\n",
        "list = [1, 2, 3, 4, 5, 3, 2, 3, 4, 5, 6, 5, 4, 6, 7, 8, 9, 0, 7, 6, 5, 4, 6, 7, 7, 9]\n",
        "\n",
        "print(Counter(list))\n",
        "\n",
        "str = 'I am tejshwini and i am from gadhinglaj '\n",
        "\n",
        "word_list = str.split()\n",
        "\n",
        "print(Counter(word_list))\n",
        "\n",
        "print('X'*50)\n",
        "\n",
        "# print(my_list.append(10))\n",
        "\n",
        "print(my_list1.append(mixed_list))\n",
        "print(my_list1[1])\n",
        "print(my_list1[:3])\n",
        "print(my_list1[3:])\n",
        "# print(my_list1.count())\n",
        "print('X'*50)\n",
        "\n",
        "print(mixed_list)\n",
        "mixed_list.remove(mixed_list[2])\n",
        "print(mixed_list)\n",
        "\n",
        "mixed_list.append(\"Teju\")\n",
        "my_list1.append(\"Ashu\")\n",
        "print(mixed_list)\n",
        "\n",
        "print(my_list1)\n",
        "my_list1.remove(my_list1[3])\n",
        "print(my_list1)\n",
        "\n",
        "print('X'*50)\n",
        "\n",
        "\n",
        "my_list.append(13)\n",
        "my_list.append(11)\n",
        "my_list.append(1)\n",
        "my_list.append(2)\n",
        "my_list.append(20)\n",
        "my_list.append(17)\n",
        "\n",
        "print(my_list)\n",
        "\n",
        "my_list.remove(my_list[3])\n",
        "\n",
        "print(my_list)\n",
        "\n",
        "print(\"Unsorted list :\",list)\n",
        "list.sort()\n",
        "print(\"Sorted list :\",list)\n",
        "print('X'* 50)\n",
        "print(\"Sum of list  is :\",sum(list))\n",
        "\n",
        "print(\"ASCII : :\",ascii(list))\n",
        "\n"
      ],
      "execution_count": 2,
      "outputs": [
        {
          "output_type": "stream",
          "text": [
            "print empty list : []\n",
            "List of int : [10, 20, 15, 68, 9, 56, 85, 95, 64, 58, 56, 32, 32]\n",
            "mixed list is : [10, 'teju', 20.0, 'Gadhinglaj']\n",
            "XXXXXXXXXXXXXXXXXXXXXXXXXXXXXXXXXXXXXXXXXXXXXXXXXX\n",
            "Counter({4: 4, 5: 4, 6: 4, 7: 4, 3: 3, 2: 2, 9: 2, 1: 1, 8: 1, 0: 1})\n",
            "Counter({'am': 2, 'I': 1, 'tejshwini': 1, 'and': 1, 'i': 1, 'from': 1, 'gadhinglaj': 1})\n",
            "XXXXXXXXXXXXXXXXXXXXXXXXXXXXXXXXXXXXXXXXXXXXXXXXXX\n",
            "None\n",
            "20\n",
            "[10, 20, 15]\n",
            "[68, 9, 56, 85, 95, 64, 58, 56, 32, 32, [10, 'teju', 20.0, 'Gadhinglaj']]\n",
            "XXXXXXXXXXXXXXXXXXXXXXXXXXXXXXXXXXXXXXXXXXXXXXXXXX\n",
            "[10, 'teju', 20.0, 'Gadhinglaj']\n",
            "[10, 'teju', 'Gadhinglaj']\n",
            "[10, 'teju', 'Gadhinglaj', 'Teju']\n",
            "[10, 20, 15, 68, 9, 56, 85, 95, 64, 58, 56, 32, 32, [10, 'teju', 'Gadhinglaj', 'Teju'], 'Ashu']\n",
            "[10, 20, 15, 9, 56, 85, 95, 64, 58, 56, 32, 32, [10, 'teju', 'Gadhinglaj', 'Teju'], 'Ashu']\n",
            "XXXXXXXXXXXXXXXXXXXXXXXXXXXXXXXXXXXXXXXXXXXXXXXXXX\n",
            "[13, 11, 1, 2, 20, 17]\n",
            "[13, 11, 1, 20, 17]\n",
            "Unsorted list : [1, 2, 3, 4, 5, 3, 2, 3, 4, 5, 6, 5, 4, 6, 7, 8, 9, 0, 7, 6, 5, 4, 6, 7, 7, 9]\n",
            "Sorted list : [0, 1, 2, 2, 3, 3, 3, 4, 4, 4, 4, 5, 5, 5, 5, 6, 6, 6, 6, 7, 7, 7, 7, 8, 9, 9]\n",
            "XXXXXXXXXXXXXXXXXXXXXXXXXXXXXXXXXXXXXXXXXXXXXXXXXX\n",
            "Sum of list  is : 128\n",
            "ASCII : : [0, 1, 2, 2, 3, 3, 3, 4, 4, 4, 4, 5, 5, 5, 5, 6, 6, 6, 6, 7, 7, 7, 7, 8, 9, 9]\n"
          ],
          "name": "stdout"
        }
      ]
    },
    {
      "cell_type": "code",
      "metadata": {
        "id": "98LnF-TDo7e6",
        "outputId": "9d5f1451-fb35-4b98-b0f6-1f72ca0c476a",
        "colab": {
          "base_uri": "https://localhost:8080/"
        }
      },
      "source": [
        "# Questions 3:\n",
        "# You have seen in the videos how powerful dictionary data structure is.\n",
        "# In this assignment, given a number n, you have to write a program that generates a dictionary d which\n",
        "# contains (i, i*i), where i is from 1 to n (both included).\n",
        "# Then you have to just print this dictionary d.\n",
        "# Example:\n",
        "# Input: 4\n",
        "# will give output as\n",
        "# {1: 1, 2: 4, 3: 9, 4: 16}\n",
        "# Input Format:\n",
        "# Take the number n in a single line.\n",
        "# Output Format:\n",
        "# Print the dictionary d in a single line.\n",
        "# Example:\n",
        "# Input:\n",
        "# 8\n",
        "# Output:\n",
        "# {1: 1, 2: 4, 3: 9, 4: 16, 5: 25, 6: 36, 7: 49, 8: 64}\n",
        "\n",
        "my_dictionary = {}\n",
        "n = int(input())\n",
        "my_dictionary = dict()\n",
        "\n",
        "for i in range(1, n+1): # star and end value\n",
        "    my_dictionary[i] = i*i\n",
        "\n",
        "print(my_dictionary)"
      ],
      "execution_count": 5,
      "outputs": [
        {
          "output_type": "stream",
          "text": [
            "5\n",
            "{1: 1, 2: 4, 3: 9, 4: 16, 5: 25}\n"
          ],
          "name": "stdout"
        }
      ]
    },
    {
      "cell_type": "code",
      "metadata": {
        "id": "nzP5p5JTpJWb",
        "outputId": "828ddb6f-f10d-4a17-f4e2-1d36436200a0",
        "colab": {
          "base_uri": "https://localhost:8080/"
        }
      },
      "source": [
        "# Questions 4:\n",
        "# There is a robot which wants to go the charging point to charge itself.\n",
        "# The robot moves in a 2-D plane from the original point (0,0). The robot can\n",
        "# move toward UP, DOWN, LEFT and RIGHT with given steps.\n",
        "# The trace of robot movement is shown as the following:\n",
        "# UP 5\n",
        "# DOWN 3\n",
        "# LEFT 3\n",
        "# RIGHT 2\n",
        "# Then, the output of the program should be:\n",
        "# 2\n",
        "# The numbers after the direction are steps.\n",
        "# Write a program to compute the distance between the current position after\n",
        "# a sequence of movement and original point. If the distance is a float, then\n",
        "# just print the nearest integer (use round() function for that and then convert\n",
        "# it into an integer).\n",
        "# Input Format:\n",
        "# The first line of the input contains a number n which implies the number of\n",
        "# directions to be given.\n",
        "# The next n lines contain the direction and the step separated by a space.\n",
        "# Output Format:\n",
        "# Print the distance from the original position to the current position.\n",
        "# Example:\n",
        "# Input:\n",
        "# 4\n",
        "# UP 5\n",
        "# DOWN 3\n",
        "# LEFT 3\n",
        "# RIGHT 2\n",
        "# Output:\n",
        "# 2\n",
        "\n",
        "\n",
        "position = {\"x\": 0, \"y\": 0}\n",
        "\n",
        "fixNumber = int(input())\n",
        "for i in range(fixNumber):\n",
        "\n",
        "    inputValue = input()\n",
        "    if not inputValue:\n",
        "        break\n",
        "\n",
        "    # print(inputValue)\n",
        "    direction, steps = inputValue.split()\n",
        "    # print(direction)\n",
        "\n",
        "    if direction == \"UP\":\n",
        "        position[\"y\"] += int(steps)\n",
        "\n",
        "    elif direction == \"DOWN\":\n",
        "        position[\"y\"] -= int(steps)\n",
        "\n",
        "    elif direction == \"LEFT\":\n",
        "        position[\"x\"] -= int(steps)\n",
        "\n",
        "    elif direction == \"RIGHT\":\n",
        "        position[\"x\"] += int(steps)\n",
        "\n",
        "print(int(round((position[\"x\"] ** 2 + position[\"y\"] ** 2) ** 0.5)))  # Formula (x2 + y2)2"
      ],
      "execution_count": 9,
      "outputs": [
        {
          "output_type": "stream",
          "text": [
            "4\n",
            "UP 5\n",
            "DOWN 3 \n",
            "LEFT 3\n",
            "RIGHT 2\n",
            "2\n"
          ],
          "name": "stdout"
        }
      ]
    }
  ]
}