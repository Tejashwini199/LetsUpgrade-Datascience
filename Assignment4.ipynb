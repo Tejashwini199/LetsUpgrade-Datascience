{
  "nbformat": 4,
  "nbformat_minor": 0,
  "metadata": {
    "colab": {
      "name": "Assignment4.ipynb",
      "provenance": [],
      "collapsed_sections": []
    },
    "kernelspec": {
      "name": "python3",
      "display_name": "Python 3"
    }
  },
  "cells": [
    {
      "cell_type": "code",
      "metadata": {
        "id": "syjZZKdguHCN",
        "outputId": "835bde6f-4b76-4e09-9ade-51fa5df01a09",
        "colab": {
          "base_uri": "https://localhost:8080/"
        }
      },
      "source": [
        "# Questions 1:\n",
        "# How to import pandas and check the version?\n",
        "import pandas as pd\n",
        "print(pd.__version__)"
      ],
      "execution_count": 1,
      "outputs": [
        {
          "output_type": "stream",
          "text": [
            "1.1.4\n"
          ],
          "name": "stdout"
        }
      ]
    },
    {
      "cell_type": "code",
      "metadata": {
        "id": "c7qngNE0uPyC",
        "outputId": "fc7d9927-9809-496c-8202-1db298a418e2",
        "colab": {
          "base_uri": "https://localhost:8080/"
        }
      },
      "source": [
        "# Questions 2:\n",
        "# How to create a series from a numpy array?\n",
        "\n",
        "import numpy as np\n",
        "\n",
        "import pandas as pd\n",
        "\n",
        "arr = np.array([1, 2, 3, 4, 5, 6, 7, 8, 91, 2, 4, 5, 8, 9, 6, 5, 4, 3, 2, 5])\n",
        "print(\"Array of numpy is :\", arr)\n",
        "\n",
        "print(\"Series of pandas is :\", pd.Series(arr))\n"
      ],
      "execution_count": 2,
      "outputs": [
        {
          "output_type": "stream",
          "text": [
            "Array of numpy is : [ 1  2  3  4  5  6  7  8 91  2  4  5  8  9  6  5  4  3  2  5]\n",
            "Series of pandas is : 0      1\n",
            "1      2\n",
            "2      3\n",
            "3      4\n",
            "4      5\n",
            "5      6\n",
            "6      7\n",
            "7      8\n",
            "8     91\n",
            "9      2\n",
            "10     4\n",
            "11     5\n",
            "12     8\n",
            "13     9\n",
            "14     6\n",
            "15     5\n",
            "16     4\n",
            "17     3\n",
            "18     2\n",
            "19     5\n",
            "dtype: int64\n"
          ],
          "name": "stdout"
        }
      ]
    },
    {
      "cell_type": "code",
      "metadata": {
        "id": "XR5D-ykbuZO3",
        "outputId": "4bdc7391-3c6f-4a5f-94f9-a9a6404b79c2",
        "colab": {
          "base_uri": "https://localhost:8080/"
        }
      },
      "source": [
        "# Questions 3:\n",
        "# How to convert the index of a series into a column of a dataframe ?\n",
        "\n",
        "import pandas as pd\n",
        "\n",
        "my_series = pd.Series([1, 2, 3, 4, 5, 6, 7, 8, 9, 3, 4, 5, 6, 7, 8, 9, 2, 3, 4, 5, 6, 7, 8, 9])\n",
        "print(\"Series is :\", my_series)\n",
        "\n",
        "print(\"index of a series into a column of a data frame :\", my_series.to_frame().reset_index())"
      ],
      "execution_count": 3,
      "outputs": [
        {
          "output_type": "stream",
          "text": [
            "Series is : 0     1\n",
            "1     2\n",
            "2     3\n",
            "3     4\n",
            "4     5\n",
            "5     6\n",
            "6     7\n",
            "7     8\n",
            "8     9\n",
            "9     3\n",
            "10    4\n",
            "11    5\n",
            "12    6\n",
            "13    7\n",
            "14    8\n",
            "15    9\n",
            "16    2\n",
            "17    3\n",
            "18    4\n",
            "19    5\n",
            "20    6\n",
            "21    7\n",
            "22    8\n",
            "23    9\n",
            "dtype: int64\n",
            "index of a series into a column of a data frame :     index  0\n",
            "0       0  1\n",
            "1       1  2\n",
            "2       2  3\n",
            "3       3  4\n",
            "4       4  5\n",
            "5       5  6\n",
            "6       6  7\n",
            "7       7  8\n",
            "8       8  9\n",
            "9       9  3\n",
            "10     10  4\n",
            "11     11  5\n",
            "12     12  6\n",
            "13     13  7\n",
            "14     14  8\n",
            "15     15  9\n",
            "16     16  2\n",
            "17     17  3\n",
            "18     18  4\n",
            "19     19  5\n",
            "20     20  6\n",
            "21     21  7\n",
            "22     22  8\n",
            "23     23  9\n"
          ],
          "name": "stdout"
        }
      ]
    },
    {
      "cell_type": "code",
      "metadata": {
        "id": "H-n9zC9MuhYr",
        "outputId": "ac5e5a83-48d9-4c2c-c396-b45cd3cf0c68",
        "colab": {
          "base_uri": "https://localhost:8080/"
        }
      },
      "source": [
        "# Questions 4:\n",
        "# Write the code to list all the datasets available in seaborn library.\n",
        "# Load the 'mpg' dataset\n",
        "# Note: mpg dataset will be read from seaborn module in the manner sir has already shown(provided in the\n",
        "# materials folder)\n",
        "import seaborn as sb\n",
        "import pandas as pd\n",
        "print(\"All dataset present in the seaborn library :\", sb.get_dataset_names()) # list of all dataset in the seaborn\n",
        "print()\n",
        "\n",
        "mpg = sb.load_dataset('mpg')\n",
        "print(\"mpg data set from seaborn :\", mpg) # loading mpg data set from seaborn library\n",
        "print()\n",
        "print(\"'anagrams' data set from seaborn :\", sb.load_dataset('anagrams'))\n",
        "print()\n",
        "print(\"car_crashes data set from seaborn :\", sb.load_dataset('car_crashes'))\n",
        "print()\n",
        "print(pd.read_csv(\"student_records.csv\")) # loading user data set using pandas library\n"
      ],
      "execution_count": 7,
      "outputs": [
        {
          "output_type": "stream",
          "text": [
            "All dataset present in the seaborn library : ['anagrams', 'anscombe', 'attention', 'brain_networks', 'car_crashes', 'diamonds', 'dots', 'exercise', 'flights', 'fmri', 'gammas', 'geyser', 'iris', 'mpg', 'penguins', 'planets', 'tips', 'titanic']\n",
            "\n",
            "mpg data set from seaborn :       mpg  cylinders  ...  origin                       name\n",
            "0    18.0          8  ...     usa  chevrolet chevelle malibu\n",
            "1    15.0          8  ...     usa          buick skylark 320\n",
            "2    18.0          8  ...     usa         plymouth satellite\n",
            "3    16.0          8  ...     usa              amc rebel sst\n",
            "4    17.0          8  ...     usa                ford torino\n",
            "..    ...        ...  ...     ...                        ...\n",
            "393  27.0          4  ...     usa            ford mustang gl\n",
            "394  44.0          4  ...  europe                  vw pickup\n",
            "395  32.0          4  ...     usa              dodge rampage\n",
            "396  28.0          4  ...     usa                ford ranger\n",
            "397  31.0          4  ...     usa                 chevy s-10\n",
            "\n",
            "[398 rows x 9 columns]\n",
            "\n",
            "'anagrams' data set from seaborn :     subidr    attnr  num1  num2  num3\n",
            "0        1  divided     2   4.0     7\n",
            "1        2  divided     3   4.0     5\n",
            "2        3  divided     3   5.0     6\n",
            "3        4  divided     5   7.0     5\n",
            "4        5  divided     4   5.0     8\n",
            "5        6  divided     5   5.0     6\n",
            "6        7  divided     5   4.5     6\n",
            "7        8  divided     5   7.0     8\n",
            "8        9  divided     2   3.0     7\n",
            "9       10  divided     6   5.0     6\n",
            "10      11  focused     6   5.0     6\n",
            "11      12  focused     8   9.0     8\n",
            "12      13  focused     6   5.0     9\n",
            "13      14  focused     8   8.0     7\n",
            "14      15  focused     8   8.0     7\n",
            "15      16  focused     6   8.0     7\n",
            "16      17  focused     7   7.0     6\n",
            "17      18  focused     7   8.0     6\n",
            "18      19  focused     5   6.0     6\n",
            "19      20  focused     6   6.0     5\n",
            "\n",
            "car_crashes data set from seaborn :     total  speeding  alcohol  ...  ins_premium  ins_losses  abbrev\n",
            "0    18.8     7.332    5.640  ...       784.55      145.08      AL\n",
            "1    18.1     7.421    4.525  ...      1053.48      133.93      AK\n",
            "2    18.6     6.510    5.208  ...       899.47      110.35      AZ\n",
            "3    22.4     4.032    5.824  ...       827.34      142.39      AR\n",
            "4    12.0     4.200    3.360  ...       878.41      165.63      CA\n",
            "5    13.6     5.032    3.808  ...       835.50      139.91      CO\n",
            "6    10.8     4.968    3.888  ...      1068.73      167.02      CT\n",
            "7    16.2     6.156    4.860  ...      1137.87      151.48      DE\n",
            "8     5.9     2.006    1.593  ...      1273.89      136.05      DC\n",
            "9    17.9     3.759    5.191  ...      1160.13      144.18      FL\n",
            "10   15.6     2.964    3.900  ...       913.15      142.80      GA\n",
            "11   17.5     9.450    7.175  ...       861.18      120.92      HI\n",
            "12   15.3     5.508    4.437  ...       641.96       82.75      ID\n",
            "13   12.8     4.608    4.352  ...       803.11      139.15      IL\n",
            "14   14.5     3.625    4.205  ...       710.46      108.92      IN\n",
            "15   15.7     2.669    3.925  ...       649.06      114.47      IA\n",
            "16   17.8     4.806    4.272  ...       780.45      133.80      KS\n",
            "17   21.4     4.066    4.922  ...       872.51      137.13      KY\n",
            "18   20.5     7.175    6.765  ...      1281.55      194.78      LA\n",
            "19   15.1     5.738    4.530  ...       661.88       96.57      ME\n",
            "20   12.5     4.250    4.000  ...      1048.78      192.70      MD\n",
            "21    8.2     1.886    2.870  ...      1011.14      135.63      MA\n",
            "22   14.1     3.384    3.948  ...      1110.61      152.26      MI\n",
            "23    9.6     2.208    2.784  ...       777.18      133.35      MN\n",
            "24   17.6     2.640    5.456  ...       896.07      155.77      MS\n",
            "25   16.1     6.923    5.474  ...       790.32      144.45      MO\n",
            "26   21.4     8.346    9.416  ...       816.21       85.15      MT\n",
            "27   14.9     1.937    5.215  ...       732.28      114.82      NE\n",
            "28   14.7     5.439    4.704  ...      1029.87      138.71      NV\n",
            "29   11.6     4.060    3.480  ...       746.54      120.21      NH\n",
            "30   11.2     1.792    3.136  ...      1301.52      159.85      NJ\n",
            "31   18.4     3.496    4.968  ...       869.85      120.75      NM\n",
            "32   12.3     3.936    3.567  ...      1234.31      150.01      NY\n",
            "33   16.8     6.552    5.208  ...       708.24      127.82      NC\n",
            "34   23.9     5.497   10.038  ...       688.75      109.72      ND\n",
            "35   14.1     3.948    4.794  ...       697.73      133.52      OH\n",
            "36   19.9     6.368    5.771  ...       881.51      178.86      OK\n",
            "37   12.8     4.224    3.328  ...       804.71      104.61      OR\n",
            "38   18.2     9.100    5.642  ...       905.99      153.86      PA\n",
            "39   11.1     3.774    4.218  ...      1148.99      148.58      RI\n",
            "40   23.9     9.082    9.799  ...       858.97      116.29      SC\n",
            "41   19.4     6.014    6.402  ...       669.31       96.87      SD\n",
            "42   19.5     4.095    5.655  ...       767.91      155.57      TN\n",
            "43   19.4     7.760    7.372  ...      1004.75      156.83      TX\n",
            "44   11.3     4.859    1.808  ...       809.38      109.48      UT\n",
            "45   13.6     4.080    4.080  ...       716.20      109.61      VT\n",
            "46   12.7     2.413    3.429  ...       768.95      153.72      VA\n",
            "47   10.6     4.452    3.498  ...       890.03      111.62      WA\n",
            "48   23.8     8.092    6.664  ...       992.61      152.56      WV\n",
            "49   13.8     4.968    4.554  ...       670.31      106.62      WI\n",
            "50   17.4     7.308    5.568  ...       791.14      122.04      WY\n",
            "\n",
            "[51 rows x 8 columns]\n",
            "\n",
            "     Name OverallGrade Obedient  ResearchScore  ProjectScore Recommend\n",
            "0   Henry            A        Y             90            85       Yes\n",
            "1    John            C        N             85            51       Yes\n",
            "2   David            F        N             10            17        No\n",
            "3  Holmes            B        Y             75            71        No\n",
            "4  Marvin            E        N             20            30        No\n",
            "5   Simon            A        Y             92            79       Yes\n",
            "6  Robert            B        Y             60            59        No\n",
            "7   Trent            C        Y             75            33        No\n"
          ],
          "name": "stdout"
        }
      ]
    },
    {
      "cell_type": "code",
      "metadata": {
        "id": "_s3N1tEsvHHu",
        "outputId": "ace0755a-0673-41fd-da7a-be407888edee",
        "colab": {
          "base_uri": "https://localhost:8080/"
        }
      },
      "source": [
        "\n",
        "# Questions 5:\n",
        "# Which country origin cars are a part of this dataset?\n",
        "\n",
        "import seaborn as sb\n",
        "import pandas as pd\n",
        "data_set = sb.load_dataset('mpg')\n",
        "print(data_set)\n",
        "\n",
        "df = pd.DataFrame(data_set)\n",
        "print(\" country origin :\", df.origin.unique())\n"
      ],
      "execution_count": 5,
      "outputs": [
        {
          "output_type": "stream",
          "text": [
            "      mpg  cylinders  ...  origin                       name\n",
            "0    18.0          8  ...     usa  chevrolet chevelle malibu\n",
            "1    15.0          8  ...     usa          buick skylark 320\n",
            "2    18.0          8  ...     usa         plymouth satellite\n",
            "3    16.0          8  ...     usa              amc rebel sst\n",
            "4    17.0          8  ...     usa                ford torino\n",
            "..    ...        ...  ...     ...                        ...\n",
            "393  27.0          4  ...     usa            ford mustang gl\n",
            "394  44.0          4  ...  europe                  vw pickup\n",
            "395  32.0          4  ...     usa              dodge rampage\n",
            "396  28.0          4  ...     usa                ford ranger\n",
            "397  31.0          4  ...     usa                 chevy s-10\n",
            "\n",
            "[398 rows x 9 columns]\n",
            " country origin : ['usa' 'japan' 'europe']\n"
          ],
          "name": "stdout"
        }
      ]
    },
    {
      "cell_type": "code",
      "metadata": {
        "id": "cWeQSmtSvZZt",
        "outputId": "b06a9f65-ae81-4bb0-9545-5a10b9ecf203",
        "colab": {
          "base_uri": "https://localhost:8080/"
        }
      },
      "source": [
        "# Questions 6:\n",
        "# Extract the part of the dataframe which contains cars belonging to 'usa'\n",
        "\n",
        "import seaborn as sb\n",
        "import pandas as pd\n",
        "\n",
        "data_set = sb.load_dataset('mpg')\n",
        "print(data_set)\n",
        "\n",
        "df = pd.DataFrame(data_set)\n",
        "\n",
        "print(\" Data set extracted only for usa :\", df[df['origin'].str.contains(\"usa\")])"
      ],
      "execution_count": 6,
      "outputs": [
        {
          "output_type": "stream",
          "text": [
            "      mpg  cylinders  ...  origin                       name\n",
            "0    18.0          8  ...     usa  chevrolet chevelle malibu\n",
            "1    15.0          8  ...     usa          buick skylark 320\n",
            "2    18.0          8  ...     usa         plymouth satellite\n",
            "3    16.0          8  ...     usa              amc rebel sst\n",
            "4    17.0          8  ...     usa                ford torino\n",
            "..    ...        ...  ...     ...                        ...\n",
            "393  27.0          4  ...     usa            ford mustang gl\n",
            "394  44.0          4  ...  europe                  vw pickup\n",
            "395  32.0          4  ...     usa              dodge rampage\n",
            "396  28.0          4  ...     usa                ford ranger\n",
            "397  31.0          4  ...     usa                 chevy s-10\n",
            "\n",
            "[398 rows x 9 columns]\n",
            " Data set extracted only for usa :       mpg  cylinders  ...  origin                       name\n",
            "0    18.0          8  ...     usa  chevrolet chevelle malibu\n",
            "1    15.0          8  ...     usa          buick skylark 320\n",
            "2    18.0          8  ...     usa         plymouth satellite\n",
            "3    16.0          8  ...     usa              amc rebel sst\n",
            "4    17.0          8  ...     usa                ford torino\n",
            "..    ...        ...  ...     ...                        ...\n",
            "392  27.0          4  ...     usa           chevrolet camaro\n",
            "393  27.0          4  ...     usa            ford mustang gl\n",
            "395  32.0          4  ...     usa              dodge rampage\n",
            "396  28.0          4  ...     usa                ford ranger\n",
            "397  31.0          4  ...     usa                 chevy s-10\n",
            "\n",
            "[249 rows x 9 columns]\n"
          ],
          "name": "stdout"
        }
      ]
    }
  ]
}