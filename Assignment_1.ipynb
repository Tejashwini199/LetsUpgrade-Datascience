{
  "nbformat": 4,
  "nbformat_minor": 0,
  "metadata": {
    "colab": {
      "name": "Assignment-1.ipynb",
      "provenance": []
    },
    "kernelspec": {
      "name": "python3",
      "display_name": "Python 3"
    }
  },
  "cells": [
    {
      "cell_type": "code",
      "metadata": {
        "id": "UluaAMiSqWFm"
      },
      "source": [
        "# Questions 1:\n",
        "# Given the following jumbled word, OBANWRI guess the correct English word.\n",
        "#\n",
        "# A. RANIBOW\n",
        "# B. RAINBOW\n",
        "# C. BOWRANI\n",
        "# D. ROBWANI\n",
        "#\n",
        "# ANS  : RAINBOW"
      ],
      "execution_count": null,
      "outputs": []
    },
    {
      "cell_type": "code",
      "metadata": {
        "id": "qP8cVGV3qnrF",
        "outputId": "ddcb939c-b06e-495c-e8bd-8c29a1399fdc",
        "colab": {
          "base_uri": "https://localhost:8080/"
        }
      },
      "source": [
        "\n",
        "# Questions 2:\n",
        "# Write a program which prints “LETS UPGRADE”. (Please note that you have to print in ALL CAPS as given)\n",
        "\n",
        "print(\"LETS UPGRADE\")\n",
        "\n",
        "# or\n",
        "\n",
        "string = \"lets UPGRADE\"\n",
        "print(string.upper())"
      ],
      "execution_count": 1,
      "outputs": [
        {
          "output_type": "stream",
          "text": [
            "LETS UPGRADE\n",
            "LETS UPGRADE\n"
          ],
          "name": "stdout"
        }
      ]
    },
    {
      "cell_type": "code",
      "metadata": {
        "id": "vqX_zXXaqvEW",
        "outputId": "79fc25e4-147b-4e88-b970-7b912a0d060a",
        "colab": {
          "base_uri": "https://localhost:8080/"
        }
      },
      "source": [
        "# Questions 3:\n",
        "# Write a program that takes cost price and selling price as input and displays whether the transaction is a\n",
        "# Profit or a Loss or Neither.\n",
        "# INPUT FORMAT\n",
        "# The first line contains the cost price.\n",
        "# The second line contains the selling price.\n",
        "# OUTPUT FORMAT\n",
        "# Print \"Profit\" if the transaction is a profit or \"Loss\" if it is a loss. If it is neither\n",
        "# profit nor loss, print \"Neither\".(You must not have quotes in your output)\n",
        "\n",
        "cost_price = int(input())\n",
        "selling_price = int(input())\n",
        "\n",
        "# print(cost_price)\n",
        "# print(selling_price)\n",
        "\n",
        "if (selling_price - cost_price) > 0:\n",
        "    print(\"Profit\")\n",
        "elif (selling_price - cost_price) < 0:\n",
        "    print(\"Loss\")\n",
        "else:\n",
        "    print(\"Neither\")"
      ],
      "execution_count": 2,
      "outputs": [
        {
          "output_type": "stream",
          "text": [
            "20\n",
            "30\n",
            "Profit\n"
          ],
          "name": "stdout"
        }
      ]
    },
    {
      "cell_type": "code",
      "metadata": {
        "id": "LdbKC0UkrMtK",
        "outputId": "4749e544-7f5b-4364-f6fa-92c055875f1e",
        "colab": {
          "base_uri": "https://localhost:8080/"
        }
      },
      "source": [
        "# Questions 4:\n",
        "# Write a program that takes an amount in Euros as input. You need to find its equivalent in\n",
        "# Rupees and display it. Assume 1 Euro equals Rs. 80.\n",
        "# Please note that you are expected to stick to the given input and output\n",
        "# format as in sample test cases. Please don't add any extra lines such as\n",
        "# 'Enter a number', etc.\n",
        "# Your program should take only one number as input and display the output.\n",
        "\n",
        "\n",
        "# euro = int(input())\n",
        "# rupees = euro*80\n",
        "# print(rupees)\n",
        "\n",
        "# or\n",
        "print(int(input())*80)\n"
      ],
      "execution_count": 3,
      "outputs": [
        {
          "output_type": "stream",
          "text": [
            "20\n",
            "1600\n"
          ],
          "name": "stdout"
        }
      ]
    }
  ]
}